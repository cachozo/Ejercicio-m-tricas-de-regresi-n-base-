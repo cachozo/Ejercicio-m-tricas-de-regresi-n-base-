{
  "nbformat": 4,
  "nbformat_minor": 0,
  "metadata": {
    "colab": {
      "provenance": []
    },
    "kernelspec": {
      "name": "python3",
      "display_name": "Python 3"
    },
    "language_info": {
      "name": "python"
    }
  },
  "cells": [
    {
      "cell_type": "code",
      "execution_count": 3,
      "metadata": {
        "id": "8E5XXFky4PRz"
      },
      "outputs": [],
      "source": [
        "import numpy as np\n",
        "import pandas as pd\n",
        "import matplotlib.pyplot as plt\n",
        "import seaborn as sns\n",
        "from sklearn.model_selection import train_test_split\n",
        "from sklearn.preprocessing import StandardScaler\n",
        "from sklearn.linear_model import LinearRegression\n",
        "from sklearn.pipeline import make_pipeline\n",
        "from sklearn.metrics import mean_absolute_error, mean_squared_error, r2_score"
      ]
    },
    {
      "cell_type": "code",
      "source": [
        "from google.colab import drive\n",
        "drive.mount('/content/drive')"
      ],
      "metadata": {
        "colab": {
          "base_uri": "https://localhost:8080/"
        },
        "id": "HF0dp_gc4k6T",
        "outputId": "0ec35650-5c3b-4f58-e6c0-6ca31c740b30"
      },
      "execution_count": 4,
      "outputs": [
        {
          "output_type": "stream",
          "name": "stdout",
          "text": [
            "Mounted at /content/drive\n"
          ]
        }
      ]
    },
    {
      "cell_type": "code",
      "source": [
        "filename = '/content/drive/My Drive/Boston_Housing_from_Sklearn.csv'\n",
        "df = pd.read_csv(filename)\n",
        "df.info()\n"
      ],
      "metadata": {
        "colab": {
          "base_uri": "https://localhost:8080/"
        },
        "id": "1Vgv894t5EiH",
        "outputId": "5bdf5a70-d1bc-4b92-d967-58c23de7f7d2"
      },
      "execution_count": 6,
      "outputs": [
        {
          "output_type": "stream",
          "name": "stdout",
          "text": [
            "<class 'pandas.core.frame.DataFrame'>\n",
            "RangeIndex: 506 entries, 0 to 505\n",
            "Data columns (total 7 columns):\n",
            " #   Column   Non-Null Count  Dtype  \n",
            "---  ------   --------------  -----  \n",
            " 0   CRIM     506 non-null    float64\n",
            " 1   NOX      506 non-null    float64\n",
            " 2   RM       506 non-null    float64\n",
            " 3   AGE      506 non-null    float64\n",
            " 4   PTRATIO  506 non-null    float64\n",
            " 5   LSTAT    506 non-null    float64\n",
            " 6   PRICE    506 non-null    float64\n",
            "dtypes: float64(7)\n",
            "memory usage: 27.8 KB\n"
          ]
        }
      ]
    },
    {
      "cell_type": "code",
      "source": [
        "df"
      ],
      "metadata": {
        "colab": {
          "base_uri": "https://localhost:8080/",
          "height": 424
        },
        "id": "dtbKeiI054cZ",
        "outputId": "c732d4a8-38df-4c47-e339-ab68ca4e16e9"
      },
      "execution_count": 7,
      "outputs": [
        {
          "output_type": "execute_result",
          "data": {
            "text/plain": [
              "        CRIM    NOX     RM   AGE  PTRATIO  LSTAT  PRICE\n",
              "0    0.00632  0.538  6.575  65.2     15.3   4.98   24.0\n",
              "1    0.02731  0.469  6.421  78.9     17.8   9.14   21.6\n",
              "2    0.02729  0.469  7.185  61.1     17.8   4.03   34.7\n",
              "3    0.03237  0.458  6.998  45.8     18.7   2.94   33.4\n",
              "4    0.06905  0.458  7.147  54.2     18.7   5.33   36.2\n",
              "..       ...    ...    ...   ...      ...    ...    ...\n",
              "501  0.06263  0.573  6.593  69.1     21.0   9.67   22.4\n",
              "502  0.04527  0.573  6.120  76.7     21.0   9.08   20.6\n",
              "503  0.06076  0.573  6.976  91.0     21.0   5.64   23.9\n",
              "504  0.10959  0.573  6.794  89.3     21.0   6.48   22.0\n",
              "505  0.04741  0.573  6.030  80.8     21.0   7.88   11.9\n",
              "\n",
              "[506 rows x 7 columns]"
            ],
            "text/html": [
              "\n",
              "  <div id=\"df-2df97b35-95e7-4949-9c9a-f116fd69e10f\">\n",
              "    <div class=\"colab-df-container\">\n",
              "      <div>\n",
              "<style scoped>\n",
              "    .dataframe tbody tr th:only-of-type {\n",
              "        vertical-align: middle;\n",
              "    }\n",
              "\n",
              "    .dataframe tbody tr th {\n",
              "        vertical-align: top;\n",
              "    }\n",
              "\n",
              "    .dataframe thead th {\n",
              "        text-align: right;\n",
              "    }\n",
              "</style>\n",
              "<table border=\"1\" class=\"dataframe\">\n",
              "  <thead>\n",
              "    <tr style=\"text-align: right;\">\n",
              "      <th></th>\n",
              "      <th>CRIM</th>\n",
              "      <th>NOX</th>\n",
              "      <th>RM</th>\n",
              "      <th>AGE</th>\n",
              "      <th>PTRATIO</th>\n",
              "      <th>LSTAT</th>\n",
              "      <th>PRICE</th>\n",
              "    </tr>\n",
              "  </thead>\n",
              "  <tbody>\n",
              "    <tr>\n",
              "      <th>0</th>\n",
              "      <td>0.00632</td>\n",
              "      <td>0.538</td>\n",
              "      <td>6.575</td>\n",
              "      <td>65.2</td>\n",
              "      <td>15.3</td>\n",
              "      <td>4.98</td>\n",
              "      <td>24.0</td>\n",
              "    </tr>\n",
              "    <tr>\n",
              "      <th>1</th>\n",
              "      <td>0.02731</td>\n",
              "      <td>0.469</td>\n",
              "      <td>6.421</td>\n",
              "      <td>78.9</td>\n",
              "      <td>17.8</td>\n",
              "      <td>9.14</td>\n",
              "      <td>21.6</td>\n",
              "    </tr>\n",
              "    <tr>\n",
              "      <th>2</th>\n",
              "      <td>0.02729</td>\n",
              "      <td>0.469</td>\n",
              "      <td>7.185</td>\n",
              "      <td>61.1</td>\n",
              "      <td>17.8</td>\n",
              "      <td>4.03</td>\n",
              "      <td>34.7</td>\n",
              "    </tr>\n",
              "    <tr>\n",
              "      <th>3</th>\n",
              "      <td>0.03237</td>\n",
              "      <td>0.458</td>\n",
              "      <td>6.998</td>\n",
              "      <td>45.8</td>\n",
              "      <td>18.7</td>\n",
              "      <td>2.94</td>\n",
              "      <td>33.4</td>\n",
              "    </tr>\n",
              "    <tr>\n",
              "      <th>4</th>\n",
              "      <td>0.06905</td>\n",
              "      <td>0.458</td>\n",
              "      <td>7.147</td>\n",
              "      <td>54.2</td>\n",
              "      <td>18.7</td>\n",
              "      <td>5.33</td>\n",
              "      <td>36.2</td>\n",
              "    </tr>\n",
              "    <tr>\n",
              "      <th>...</th>\n",
              "      <td>...</td>\n",
              "      <td>...</td>\n",
              "      <td>...</td>\n",
              "      <td>...</td>\n",
              "      <td>...</td>\n",
              "      <td>...</td>\n",
              "      <td>...</td>\n",
              "    </tr>\n",
              "    <tr>\n",
              "      <th>501</th>\n",
              "      <td>0.06263</td>\n",
              "      <td>0.573</td>\n",
              "      <td>6.593</td>\n",
              "      <td>69.1</td>\n",
              "      <td>21.0</td>\n",
              "      <td>9.67</td>\n",
              "      <td>22.4</td>\n",
              "    </tr>\n",
              "    <tr>\n",
              "      <th>502</th>\n",
              "      <td>0.04527</td>\n",
              "      <td>0.573</td>\n",
              "      <td>6.120</td>\n",
              "      <td>76.7</td>\n",
              "      <td>21.0</td>\n",
              "      <td>9.08</td>\n",
              "      <td>20.6</td>\n",
              "    </tr>\n",
              "    <tr>\n",
              "      <th>503</th>\n",
              "      <td>0.06076</td>\n",
              "      <td>0.573</td>\n",
              "      <td>6.976</td>\n",
              "      <td>91.0</td>\n",
              "      <td>21.0</td>\n",
              "      <td>5.64</td>\n",
              "      <td>23.9</td>\n",
              "    </tr>\n",
              "    <tr>\n",
              "      <th>504</th>\n",
              "      <td>0.10959</td>\n",
              "      <td>0.573</td>\n",
              "      <td>6.794</td>\n",
              "      <td>89.3</td>\n",
              "      <td>21.0</td>\n",
              "      <td>6.48</td>\n",
              "      <td>22.0</td>\n",
              "    </tr>\n",
              "    <tr>\n",
              "      <th>505</th>\n",
              "      <td>0.04741</td>\n",
              "      <td>0.573</td>\n",
              "      <td>6.030</td>\n",
              "      <td>80.8</td>\n",
              "      <td>21.0</td>\n",
              "      <td>7.88</td>\n",
              "      <td>11.9</td>\n",
              "    </tr>\n",
              "  </tbody>\n",
              "</table>\n",
              "<p>506 rows × 7 columns</p>\n",
              "</div>\n",
              "      <button class=\"colab-df-convert\" onclick=\"convertToInteractive('df-2df97b35-95e7-4949-9c9a-f116fd69e10f')\"\n",
              "              title=\"Convert this dataframe to an interactive table.\"\n",
              "              style=\"display:none;\">\n",
              "        \n",
              "  <svg xmlns=\"http://www.w3.org/2000/svg\" height=\"24px\"viewBox=\"0 0 24 24\"\n",
              "       width=\"24px\">\n",
              "    <path d=\"M0 0h24v24H0V0z\" fill=\"none\"/>\n",
              "    <path d=\"M18.56 5.44l.94 2.06.94-2.06 2.06-.94-2.06-.94-.94-2.06-.94 2.06-2.06.94zm-11 1L8.5 8.5l.94-2.06 2.06-.94-2.06-.94L8.5 2.5l-.94 2.06-2.06.94zm10 10l.94 2.06.94-2.06 2.06-.94-2.06-.94-.94-2.06-.94 2.06-2.06.94z\"/><path d=\"M17.41 7.96l-1.37-1.37c-.4-.4-.92-.59-1.43-.59-.52 0-1.04.2-1.43.59L10.3 9.45l-7.72 7.72c-.78.78-.78 2.05 0 2.83L4 21.41c.39.39.9.59 1.41.59.51 0 1.02-.2 1.41-.59l7.78-7.78 2.81-2.81c.8-.78.8-2.07 0-2.86zM5.41 20L4 18.59l7.72-7.72 1.47 1.35L5.41 20z\"/>\n",
              "  </svg>\n",
              "      </button>\n",
              "      \n",
              "  <style>\n",
              "    .colab-df-container {\n",
              "      display:flex;\n",
              "      flex-wrap:wrap;\n",
              "      gap: 12px;\n",
              "    }\n",
              "\n",
              "    .colab-df-convert {\n",
              "      background-color: #E8F0FE;\n",
              "      border: none;\n",
              "      border-radius: 50%;\n",
              "      cursor: pointer;\n",
              "      display: none;\n",
              "      fill: #1967D2;\n",
              "      height: 32px;\n",
              "      padding: 0 0 0 0;\n",
              "      width: 32px;\n",
              "    }\n",
              "\n",
              "    .colab-df-convert:hover {\n",
              "      background-color: #E2EBFA;\n",
              "      box-shadow: 0px 1px 2px rgba(60, 64, 67, 0.3), 0px 1px 3px 1px rgba(60, 64, 67, 0.15);\n",
              "      fill: #174EA6;\n",
              "    }\n",
              "\n",
              "    [theme=dark] .colab-df-convert {\n",
              "      background-color: #3B4455;\n",
              "      fill: #D2E3FC;\n",
              "    }\n",
              "\n",
              "    [theme=dark] .colab-df-convert:hover {\n",
              "      background-color: #434B5C;\n",
              "      box-shadow: 0px 1px 3px 1px rgba(0, 0, 0, 0.15);\n",
              "      filter: drop-shadow(0px 1px 2px rgba(0, 0, 0, 0.3));\n",
              "      fill: #FFFFFF;\n",
              "    }\n",
              "  </style>\n",
              "\n",
              "      <script>\n",
              "        const buttonEl =\n",
              "          document.querySelector('#df-2df97b35-95e7-4949-9c9a-f116fd69e10f button.colab-df-convert');\n",
              "        buttonEl.style.display =\n",
              "          google.colab.kernel.accessAllowed ? 'block' : 'none';\n",
              "\n",
              "        async function convertToInteractive(key) {\n",
              "          const element = document.querySelector('#df-2df97b35-95e7-4949-9c9a-f116fd69e10f');\n",
              "          const dataTable =\n",
              "            await google.colab.kernel.invokeFunction('convertToInteractive',\n",
              "                                                     [key], {});\n",
              "          if (!dataTable) return;\n",
              "\n",
              "          const docLinkHtml = 'Like what you see? Visit the ' +\n",
              "            '<a target=\"_blank\" href=https://colab.research.google.com/notebooks/data_table.ipynb>data table notebook</a>'\n",
              "            + ' to learn more about interactive tables.';\n",
              "          element.innerHTML = '';\n",
              "          dataTable['output_type'] = 'display_data';\n",
              "          await google.colab.output.renderOutput(dataTable, element);\n",
              "          const docLink = document.createElement('div');\n",
              "          docLink.innerHTML = docLinkHtml;\n",
              "          element.appendChild(docLink);\n",
              "        }\n",
              "      </script>\n",
              "    </div>\n",
              "  </div>\n",
              "  "
            ]
          },
          "metadata": {},
          "execution_count": 7
        }
      ]
    },
    {
      "cell_type": "code",
      "source": [
        "print('Hay', df.duplicated().sum(), 'duplicados.')"
      ],
      "metadata": {
        "colab": {
          "base_uri": "https://localhost:8080/"
        },
        "id": "i2PaD2WwhzWh",
        "outputId": "b82b605f-df69-4fdc-aaae-b0c1c77f9066"
      },
      "execution_count": 8,
      "outputs": [
        {
          "output_type": "stream",
          "name": "stdout",
          "text": [
            "Hay 0 duplicados.\n"
          ]
        }
      ]
    },
    {
      "cell_type": "code",
      "source": [
        "#1) Realicen un mapa de calor de las correlaciones.  Identifiquen cualquier característica que tenga un coeficiente de correlación de magnitud 0,5 (puede ser + o -) o mayor con el precio.\n",
        "\n",
        "corr = df.corr()\n",
        "plt.figure(figsize = (8, 8))\n",
        "sns.heatmap(corr, cmap = 'Greens', annot = True)"
      ],
      "metadata": {
        "colab": {
          "base_uri": "https://localhost:8080/",
          "height": 504
        },
        "id": "CnE2hi23lnOv",
        "outputId": "f98eb7aa-3633-43b9-8514-520229ba7c34"
      },
      "execution_count": 9,
      "outputs": [
        {
          "output_type": "execute_result",
          "data": {
            "text/plain": [
              "<matplotlib.axes._subplots.AxesSubplot at 0x7f0a316acf50>"
            ]
          },
          "metadata": {},
          "execution_count": 9
        },
        {
          "output_type": "display_data",
          "data": {
            "text/plain": [
              "<Figure size 576x576 with 2 Axes>"
            ],
            "image/png": "[encoded data removed]"
          },
          "metadata": {
            "needs_background": "light"
          }
        }
      ]
    },
    {
      "cell_type": "markdown",
      "source": [],
      "metadata": {
        "id": "UTylYKBWmBB6"
      }
    },
    {
      "cell_type": "markdown",
      "source": [
        "Identifiquen cualquier característica que tenga un coeficiente de correlación de magnitud 0,5 (puede ser + o -) o mayor con el precio.\n",
        "\n",
        "-RM, PTRATIO, LSTAT"
      ],
      "metadata": {
        "id": "S6qqgf43mTO2"
      }
    },
    {
      "cell_type": "code",
      "source": [
        "#Limitaremos nuestros análisis de estas tres características.\n",
        "\n",
        "X = df[['RM', 'PTRATIO', 'LSTAT']]\n",
        "y = df['PRICE']"
      ],
      "metadata": {
        "id": "jT4t_2hRl6lK"
      },
      "execution_count": 10,
      "outputs": []
    },
    {
      "cell_type": "code",
      "source": [
        "X_train, X_test, y_train, y_test = train_test_split(X, y, random_state = 42)"
      ],
      "metadata": {
        "id": "JM-MiLoAmmry"
      },
      "execution_count": 11,
      "outputs": []
    },
    {
      "cell_type": "code",
      "source": [
        "#Instancien el modelo y ajústenlo al conjunto de entrenamiento.\n",
        "scaler = StandardScaler()\n",
        "# Instanciar la regresión\n",
        "lin_reg = LinearRegression()\n",
        "# Crear el pipeline\n",
        "reg_pipe = make_pipeline(scaler, lin_reg)\n",
        "# Hacer el fit que corresponda\n",
        "lin_reg.fit(X_train, y_train)"
      ],
      "metadata": {
        "colab": {
          "base_uri": "https://localhost:8080/"
        },
        "id": "C0AHDhIInIHf",
        "outputId": "439c2e4d-e581-4ff9-c02d-16709f475673"
      },
      "execution_count": 12,
      "outputs": [
        {
          "output_type": "execute_result",
          "data": {
            "text/plain": [
              "LinearRegression()"
            ]
          },
          "metadata": {},
          "execution_count": 12
        }
      ]
    },
    {
      "cell_type": "code",
      "source": [
        "# Evaluar el modelo de rendimiento en el conjunto de entrenamiento\n",
        "train_pred = lin_reg.predict(X_train)\n",
        "test_pred = lin_reg.predict(X_test)\n",
        "\n",
        "# usando la puntuación R^2. \n",
        "train_r2 = r2_score(y_train, train_pred)\n",
        "test_r2 = r2_score(y_test, test_pred)\n",
        "\n",
        "# Evalúen el modelo usando el error absoluto medio (EAM).\n",
        "X_train_MAE = mean_absolute_error(y_train, train_pred)\n",
        "X_test_MAE = mean_absolute_error(y_test, test_pred)\n",
        "\n",
        "# 7) Evalúen el modelo usando el error cuadrático medio (ECM).  \n",
        "X_train_MSE = mean_squared_error(y_train, train_pred)\n",
        "X_test_MSE = mean_squared_error(y_test, test_pred)"
      ],
      "metadata": {
        "id": "uxafU0PkndZ2"
      },
      "execution_count": 13,
      "outputs": []
    },
    {
      "cell_type": "code",
      "source": [
        "print('El Coeficiente de determinación R2 en el training es ', round(train_r2, 2))\n",
        "print('El Coeficiente de determinación R2 en el testing es', round(test_r2, 2))\n",
        "print('El Error Absoluto Medio (MAE) en el training es', round(X_train_MAE, 2))\n",
        "print('El Error Absoluto Medio (MAE) en el test set es', round(X_test_MAE, 2))\n",
        "print('El Error Cuadrático Medio (MSE) en el training es', round(X_train_MSE, 2))\n",
        "print('El Error Cuadrático Medio (MSE) en el testing es', round(X_test_MSE, 2))\n",
        "print('La Raíz del Error Cuadrático Medio (RMSE) en el training es', round(np.sqrt(X_train_MSE), 2))\n",
        "print('La Raíz del Error Cuadrático Medio (RMSE) en el testing es', round(np.sqrt(X_test_MSE), 2))"
      ],
      "metadata": {
        "colab": {
          "base_uri": "https://localhost:8080/"
        },
        "id": "D6qI5owQsDlt",
        "outputId": "c376ee4a-0b53-4efd-88be-49a606946012"
      },
      "execution_count": 17,
      "outputs": [
        {
          "output_type": "stream",
          "name": "stdout",
          "text": [
            "El Coeficiente de determinación R2 en el training es  0.69\n",
            "El Coeficiente de determinación R2 en el testing es 0.63\n",
            "El Error Absoluto Medio (MAE) en el training es 3.71\n",
            "El Error Absoluto Medio (MAE) en el test set es 3.39\n",
            "El Error Cuadrático Medio (MSE) en el training es 27.69\n",
            "El Error Cuadrático Medio (MSE) en el testing es 25.69\n",
            "La Raíz del Error Cuadrático Medio (RMSE) en el training es 5.26\n",
            "La Raíz del Error Cuadrático Medio (RMSE) en el testing es 5.07\n"
          ]
        }
      ]
    },
    {
      "cell_type": "markdown",
      "source": [
        "Los resultados nos dicen lo contrario de los estipulado en clase. Lo que debe estar cerca del cero se aleja y lo que debe estar lejos se acerca.\n",
        "\n",
        "El R2 nos dice que en el test solamente hay una variación que ronda el 63%.\n",
        "Lo que refleja el Coeficiente de determinación es que hay una franja grande de error  a la hora de calcular el precio de una casa en Boston.\n",
        "\n",
        "El Error Cuadrático Medio (MSE) es tan grande que supera al Error Absoluto Medio (MAE) lo que sugiere que el error es enorme y no permite de ninguna manera una predicción, ni mucho menos una generalicación.\n"
      ],
      "metadata": {
        "id": "ORPeqrV4cPer"
      }
    }
  ]
}